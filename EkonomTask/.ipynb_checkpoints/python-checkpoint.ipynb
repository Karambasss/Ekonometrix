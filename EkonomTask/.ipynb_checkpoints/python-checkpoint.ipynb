{
 "cells": [
  {
   "cell_type": "code",
   "execution_count": 1,
   "id": "0c3827a4",
   "metadata": {},
   "outputs": [],
   "source": [
    "import numpy as np"
   ]
  },
  {
   "cell_type": "code",
   "execution_count": 2,
   "id": "73877c8c",
   "metadata": {},
   "outputs": [],
   "source": [
    "import pandas as pd"
   ]
  },
  {
   "cell_type": "code",
   "execution_count": 34,
   "id": "6a195337",
   "metadata": {},
   "outputs": [
    {
     "data": {
      "text/html": [
       "<div>\n",
       "<style scoped>\n",
       "    .dataframe tbody tr th:only-of-type {\n",
       "        vertical-align: middle;\n",
       "    }\n",
       "\n",
       "    .dataframe tbody tr th {\n",
       "        vertical-align: top;\n",
       "    }\n",
       "\n",
       "    .dataframe thead th {\n",
       "        text-align: right;\n",
       "    }\n",
       "</style>\n",
       "<table border=\"1\" class=\"dataframe\">\n",
       "  <thead>\n",
       "    <tr style=\"text-align: right;\">\n",
       "      <th></th>\n",
       "      <th>y</th>\n",
       "      <th>x1</th>\n",
       "      <th>x2</th>\n",
       "      <th>x3</th>\n",
       "    </tr>\n",
       "  </thead>\n",
       "  <tbody>\n",
       "    <tr>\n",
       "      <th>1</th>\n",
       "      <td>106.492808</td>\n",
       "      <td>50.451171</td>\n",
       "      <td>27.866614</td>\n",
       "      <td>51.975582</td>\n",
       "    </tr>\n",
       "    <tr>\n",
       "      <th>2</th>\n",
       "      <td>104.794562</td>\n",
       "      <td>48.171496</td>\n",
       "      <td>26.020243</td>\n",
       "      <td>51.813055</td>\n",
       "    </tr>\n",
       "    <tr>\n",
       "      <th>3</th>\n",
       "      <td>104.180294</td>\n",
       "      <td>48.305067</td>\n",
       "      <td>25.642313</td>\n",
       "      <td>53.772739</td>\n",
       "    </tr>\n",
       "    <tr>\n",
       "      <th>4</th>\n",
       "      <td>106.041953</td>\n",
       "      <td>49.192154</td>\n",
       "      <td>26.444598</td>\n",
       "      <td>52.140332</td>\n",
       "    </tr>\n",
       "    <tr>\n",
       "      <th>5</th>\n",
       "      <td>106.168625</td>\n",
       "      <td>49.723453</td>\n",
       "      <td>27.965257</td>\n",
       "      <td>52.990834</td>\n",
       "    </tr>\n",
       "    <tr>\n",
       "      <th>...</th>\n",
       "      <td>...</td>\n",
       "      <td>...</td>\n",
       "      <td>...</td>\n",
       "      <td>...</td>\n",
       "    </tr>\n",
       "    <tr>\n",
       "      <th>296</th>\n",
       "      <td>104.958200</td>\n",
       "      <td>48.767419</td>\n",
       "      <td>26.189664</td>\n",
       "      <td>53.266383</td>\n",
       "    </tr>\n",
       "    <tr>\n",
       "      <th>297</th>\n",
       "      <td>104.930741</td>\n",
       "      <td>49.665983</td>\n",
       "      <td>28.591901</td>\n",
       "      <td>51.683172</td>\n",
       "    </tr>\n",
       "    <tr>\n",
       "      <th>298</th>\n",
       "      <td>104.160358</td>\n",
       "      <td>49.956601</td>\n",
       "      <td>29.210627</td>\n",
       "      <td>53.910949</td>\n",
       "    </tr>\n",
       "    <tr>\n",
       "      <th>299</th>\n",
       "      <td>104.627236</td>\n",
       "      <td>48.149669</td>\n",
       "      <td>26.781977</td>\n",
       "      <td>53.051627</td>\n",
       "    </tr>\n",
       "    <tr>\n",
       "      <th>300</th>\n",
       "      <td>104.735875</td>\n",
       "      <td>48.774167</td>\n",
       "      <td>26.429808</td>\n",
       "      <td>52.566992</td>\n",
       "    </tr>\n",
       "  </tbody>\n",
       "</table>\n",
       "<p>300 rows × 4 columns</p>\n",
       "</div>"
      ],
      "text/plain": [
       "              y         x1         x2         x3\n",
       "1    106.492808  50.451171  27.866614  51.975582\n",
       "2    104.794562  48.171496  26.020243  51.813055\n",
       "3    104.180294  48.305067  25.642313  53.772739\n",
       "4    106.041953  49.192154  26.444598  52.140332\n",
       "5    106.168625  49.723453  27.965257  52.990834\n",
       "..          ...        ...        ...        ...\n",
       "296  104.958200  48.767419  26.189664  53.266383\n",
       "297  104.930741  49.665983  28.591901  51.683172\n",
       "298  104.160358  49.956601  29.210627  53.910949\n",
       "299  104.627236  48.149669  26.781977  53.051627\n",
       "300  104.735875  48.774167  26.429808  52.566992\n",
       "\n",
       "[300 rows x 4 columns]"
      ]
     },
     "execution_count": 34,
     "metadata": {},
     "output_type": "execute_result"
    }
   ],
   "source": [
    "d = pd.read_csv('./Demenchuk.txt', sep = '\t', decimal = ',')\n",
    "d = d.astype('float')\n",
    "y = d[\"y\"]\n",
    "x1 = d[\"x1\"]\n",
    "x2 = d[\"x2\"]\n",
    "x3 = d[\"x3\"]\n",
    "d"
   ]
  },
  {
   "cell_type": "code",
   "execution_count": 35,
   "id": "87bd1b74",
   "metadata": {},
   "outputs": [
    {
     "data": {
      "text/plain": [
       "y     float64\n",
       "x1    float64\n",
       "x2    float64\n",
       "x3    float64\n",
       "dtype: object"
      ]
     },
     "execution_count": 35,
     "metadata": {},
     "output_type": "execute_result"
    }
   ],
   "source": [
    "d.dtypes"
   ]
  },
  {
   "cell_type": "markdown",
   "id": "6cc55758",
   "metadata": {},
   "source": [
    "# Отбираем x для парной модели"
   ]
  },
  {
   "cell_type": "code",
   "execution_count": 36,
   "id": "29d028f8",
   "metadata": {},
   "outputs": [],
   "source": [
    "from matplotlib import pyplot as plt\n",
    "import numpy as np"
   ]
  },
  {
   "cell_type": "markdown",
   "id": "057fd5e0",
   "metadata": {},
   "source": [
    "### y и x1"
   ]
  },
  {
   "cell_type": "code",
   "execution_count": 37,
   "id": "decb8fec",
   "metadata": {},
   "outputs": [
    {
     "data": {
      "image/png": "[encoded data removed]",
      "text/plain": [
       "<Figure size 432x288 with 1 Axes>"
      ]
     },
     "metadata": {
      "needs_background": "light"
     },
     "output_type": "display_data"
    }
   ],
   "source": [
    "xs = d[\"x1\"]\n",
    "ys = d[\"y\"].apply( np.log )\n",
    "pd.DataFrame(np.array([xs,ys]).T).plot.scatter(0, 1, s=12, grid=True)\n",
    "plt.xlabel('x1')\n",
    "plt.ylabel('y')\n",
    "plt.show()"
   ]
  },
  {
   "cell_type": "code",
   "execution_count": 38,
   "id": "7b6e02e4",
   "metadata": {},
   "outputs": [
    {
     "data": {
      "text/plain": [
       "0.7943230594541699"
      ]
     },
     "execution_count": 38,
     "metadata": {},
     "output_type": "execute_result"
    }
   ],
   "source": [
    "x1_corr = np.corrcoef(d[\"x1\"], d[\"y\"])[0, 1]\n",
    "x1_corr"
   ]
  },
  {
   "cell_type": "markdown",
   "id": "088913a4",
   "metadata": {},
   "source": [
    "### y и x2"
   ]
  },
  {
   "cell_type": "code",
   "execution_count": 39,
   "id": "8673831c",
   "metadata": {},
   "outputs": [
    {
     "data": {
      "image/png": "[encoded data removed]",
      "text/plain": [
       "<Figure size 432x288 with 1 Axes>"
      ]
     },
     "metadata": {
      "needs_background": "light"
     },
     "output_type": "display_data"
    }
   ],
   "source": [
    "xs = d[\"x2\"]\n",
    "ys = d[\"y\"].apply( np.log )\n",
    "pd.DataFrame(np.array([xs,ys]).T).plot.scatter(0, 1, s=12, grid=True)\n",
    "plt.xlabel('x2')\n",
    "plt.ylabel('y')\n",
    "plt.show()"
   ]
  },
  {
   "cell_type": "code",
   "execution_count": 40,
   "id": "55c102c3",
   "metadata": {},
   "outputs": [
    {
     "data": {
      "text/plain": [
       "0.2891332943836466"
      ]
     },
     "execution_count": 40,
     "metadata": {},
     "output_type": "execute_result"
    }
   ],
   "source": [
    "x2_corr = np.corrcoef(d[\"x2\"], d[\"y\"])[0, 1]\n",
    "x2_corr"
   ]
  },
  {
   "cell_type": "markdown",
   "id": "3a0d4dbe",
   "metadata": {},
   "source": [
    "### y и x3"
   ]
  },
  {
   "cell_type": "code",
   "execution_count": 41,
   "id": "eac754cc",
   "metadata": {},
   "outputs": [
    {
     "data": {
      "image/png": "[encoded data removed]",
      "text/plain": [
       "<Figure size 432x288 with 1 Axes>"
      ]
     },
     "metadata": {
      "needs_background": "light"
     },
     "output_type": "display_data"
    }
   ],
   "source": [
    "xs = d[\"x3\"]\n",
    "ys = d[\"y\"].apply( np.log )\n",
    "pd.DataFrame(np.array([xs,ys]).T).plot.scatter(0, 1, s=12, grid=True)\n",
    "plt.xlabel('x3')\n",
    "plt.ylabel('y')\n",
    "plt.show()"
   ]
  },
  {
   "cell_type": "code",
   "execution_count": 45,
   "id": "527e0e77",
   "metadata": {},
   "outputs": [
    {
     "data": {
      "text/plain": [
       "-0.6223541867469227"
      ]
     },
     "execution_count": 45,
     "metadata": {},
     "output_type": "execute_result"
    }
   ],
   "source": [
    "x3_corr = np.corrcoef(d[\"x3\"], d[\"y\"])[0, 1]\n",
    "x3_corr"
   ]
  },
  {
   "cell_type": "code",
   "execution_count": 46,
   "id": "1c4868cc",
   "metadata": {},
   "outputs": [
    {
     "name": "stdout",
     "output_type": "stream",
     "text": [
      "0.7943230594541699\n",
      "0.2891332943836466\n",
      "-0.6223541867469227\n"
     ]
    }
   ],
   "source": [
    "print(f\"{x1_corr}\\n{x2_corr}\\n{x3_corr}\")"
   ]
  },
  {
   "cell_type": "markdown",
   "id": "f41a03fa",
   "metadata": {},
   "source": [
    "**Вывод**<br>Наиболее сильная зависимость видна между y и x1. Ее же и берем для построения парной регрессии"
   ]
  },
  {
   "cell_type": "code",
   "execution_count": 47,
   "id": "06b8d2f8",
   "metadata": {},
   "outputs": [],
   "source": [
    "import statsmodels.formula.api as sm"
   ]
  },
  {
   "cell_type": "markdown",
   "id": "db049d4d",
   "metadata": {},
   "source": [
    "### Строим парную модель"
   ]
  },
  {
   "cell_type": "code",
   "execution_count": null,
   "id": "15d2f275",
   "metadata": {},
   "outputs": [],
   "source": []
  },
  {
   "cell_type": "markdown",
   "id": "350e6a23",
   "metadata": {},
   "source": [
    "### Строими множественную модель"
   ]
  },
  {
   "cell_type": "markdown",
   "id": "242d7f2c",
   "metadata": {},
   "source": [
    "#### Общие данные"
   ]
  },
  {
   "cell_type": "code",
   "execution_count": 48,
   "id": "3c224294",
   "metadata": {
    "scrolled": false
   },
   "outputs": [
    {
     "data": {
      "text/html": [
       "<table class=\"simpletable\">\n",
       "<caption>OLS Regression Results</caption>\n",
       "<tr>\n",
       "  <th>Dep. Variable:</th>            <td>y</td>        <th>  R-squared:         </th> <td>   0.749</td>\n",
       "</tr>\n",
       "<tr>\n",
       "  <th>Model:</th>                   <td>OLS</td>       <th>  Adj. R-squared:    </th> <td>   0.747</td>\n",
       "</tr>\n",
       "<tr>\n",
       "  <th>Method:</th>             <td>Least Squares</td>  <th>  F-statistic:       </th> <td>   294.5</td>\n",
       "</tr>\n",
       "<tr>\n",
       "  <th>Date:</th>             <td>Fri, 15 Oct 2021</td> <th>  Prob (F-statistic):</th> <td>1.62e-88</td>\n",
       "</tr>\n",
       "<tr>\n",
       "  <th>Time:</th>                 <td>16:08:16</td>     <th>  Log-Likelihood:    </th> <td> -207.33</td>\n",
       "</tr>\n",
       "<tr>\n",
       "  <th>No. Observations:</th>      <td>   300</td>      <th>  AIC:               </th> <td>   422.7</td>\n",
       "</tr>\n",
       "<tr>\n",
       "  <th>Df Residuals:</th>          <td>   296</td>      <th>  BIC:               </th> <td>   437.5</td>\n",
       "</tr>\n",
       "<tr>\n",
       "  <th>Df Model:</th>              <td>     3</td>      <th>                     </th>     <td> </td>   \n",
       "</tr>\n",
       "<tr>\n",
       "  <th>Covariance Type:</th>      <td>nonrobust</td>    <th>                     </th>     <td> </td>   \n",
       "</tr>\n",
       "</table>\n",
       "<table class=\"simpletable\">\n",
       "<tr>\n",
       "      <td></td>         <th>coef</th>     <th>std err</th>      <th>t</th>      <th>P>|t|</th>  <th>[0.025</th>    <th>0.975]</th>  \n",
       "</tr>\n",
       "<tr>\n",
       "  <th>Intercept</th> <td>   84.0773</td> <td>    3.195</td> <td>   26.316</td> <td> 0.000</td> <td>   77.790</td> <td>   90.365</td>\n",
       "</tr>\n",
       "<tr>\n",
       "  <th>x1</th>        <td>    0.8811</td> <td>    0.046</td> <td>   19.071</td> <td> 0.000</td> <td>    0.790</td> <td>    0.972</td>\n",
       "</tr>\n",
       "<tr>\n",
       "  <th>x2</th>        <td>   -0.2470</td> <td>    0.040</td> <td>   -6.199</td> <td> 0.000</td> <td>   -0.325</td> <td>   -0.169</td>\n",
       "</tr>\n",
       "<tr>\n",
       "  <th>x3</th>        <td>   -0.2939</td> <td>    0.036</td> <td>   -8.062</td> <td> 0.000</td> <td>   -0.366</td> <td>   -0.222</td>\n",
       "</tr>\n",
       "</table>\n",
       "<table class=\"simpletable\">\n",
       "<tr>\n",
       "  <th>Omnibus:</th>       <td> 0.180</td> <th>  Durbin-Watson:     </th> <td>   2.050</td>\n",
       "</tr>\n",
       "<tr>\n",
       "  <th>Prob(Omnibus):</th> <td> 0.914</td> <th>  Jarque-Bera (JB):  </th> <td>   0.151</td>\n",
       "</tr>\n",
       "<tr>\n",
       "  <th>Skew:</th>          <td> 0.055</td> <th>  Prob(JB):          </th> <td>   0.927</td>\n",
       "</tr>\n",
       "<tr>\n",
       "  <th>Kurtosis:</th>      <td> 2.988</td> <th>  Cond. No.          </th> <td>8.77e+03</td>\n",
       "</tr>\n",
       "</table><br/><br/>Notes:<br/>[1] Standard Errors assume that the covariance matrix of the errors is correctly specified.<br/>[2] The condition number is large, 8.77e+03. This might indicate that there are<br/>strong multicollinearity or other numerical problems."
      ],
      "text/plain": [
       "<class 'statsmodels.iolib.summary.Summary'>\n",
       "\"\"\"\n",
       "                            OLS Regression Results                            \n",
       "==============================================================================\n",
       "Dep. Variable:                      y   R-squared:                       0.749\n",
       "Model:                            OLS   Adj. R-squared:                  0.747\n",
       "Method:                 Least Squares   F-statistic:                     294.5\n",
       "Date:                Fri, 15 Oct 2021   Prob (F-statistic):           1.62e-88\n",
       "Time:                        16:08:16   Log-Likelihood:                -207.33\n",
       "No. Observations:                 300   AIC:                             422.7\n",
       "Df Residuals:                     296   BIC:                             437.5\n",
       "Df Model:                           3                                         \n",
       "Covariance Type:            nonrobust                                         \n",
       "==============================================================================\n",
       "                 coef    std err          t      P>|t|      [0.025      0.975]\n",
       "------------------------------------------------------------------------------\n",
       "Intercept     84.0773      3.195     26.316      0.000      77.790      90.365\n",
       "x1             0.8811      0.046     19.071      0.000       0.790       0.972\n",
       "x2            -0.2470      0.040     -6.199      0.000      -0.325      -0.169\n",
       "x3            -0.2939      0.036     -8.062      0.000      -0.366      -0.222\n",
       "==============================================================================\n",
       "Omnibus:                        0.180   Durbin-Watson:                   2.050\n",
       "Prob(Omnibus):                  0.914   Jarque-Bera (JB):                0.151\n",
       "Skew:                           0.055   Prob(JB):                        0.927\n",
       "Kurtosis:                       2.988   Cond. No.                     8.77e+03\n",
       "==============================================================================\n",
       "\n",
       "Notes:\n",
       "[1] Standard Errors assume that the covariance matrix of the errors is correctly specified.\n",
       "[2] The condition number is large, 8.77e+03. This might indicate that there are\n",
       "strong multicollinearity or other numerical problems.\n",
       "\"\"\""
      ]
     },
     "execution_count": 48,
     "metadata": {},
     "output_type": "execute_result"
    }
   ],
   "source": [
    "m = sm.ols(formula=\"y ~ x1 + x2 + x3\", data=d)\n",
    "results = m.fit()\n",
    "s = results.summary()\n",
    "s"
   ]
  },
  {
   "cell_type": "markdown",
   "id": "2aca6d3d",
   "metadata": {},
   "source": [
    "### Сред ошибка модели"
   ]
  },
  {
   "cell_type": "code",
   "execution_count": 54,
   "id": "b7adeb06",
   "metadata": {},
   "outputs": [
    {
     "name": "stdout",
     "output_type": "stream",
     "text": [
      "0.4862089799786962\n"
     ]
    }
   ],
   "source": [
    "print(np.sqrt(results.scale))"
   ]
  },
  {
   "cell_type": "markdown",
   "id": "fe1e18d8",
   "metadata": {},
   "source": [
    "### Коэфф аппроксимации"
   ]
  },
  {
   "cell_type": "code",
   "execution_count": 52,
   "id": "cae38a52",
   "metadata": {},
   "outputs": [
    {
     "name": "stdout",
     "output_type": "stream",
     "text": [
      "0.364280908658048\n"
     ]
    }
   ],
   "source": [
    "apr0 = (1/len(x1))*sum(abs(e0/y))*100\n",
    "print(apr0)"
   ]
  },
  {
   "cell_type": "markdown",
   "id": "f31c6258",
   "metadata": {},
   "source": [
    "### Коэфф детерминации R^2"
   ]
  },
  {
   "cell_type": "code",
   "execution_count": 31,
   "id": "eb30c9df",
   "metadata": {},
   "outputs": [],
   "source": [
    "pred_val0 = results.fittedvalues.copy()\n",
    "true_val0 = d[\"y\"]\n",
    "e0 = true_val0 - pred_val0"
   ]
  },
  {
   "cell_type": "code",
   "execution_count": 32,
   "id": "56a37711",
   "metadata": {},
   "outputs": [
    {
     "name": "stdout",
     "output_type": "stream",
     "text": [
      "0.749072929524051\n",
      "0.749072929524051\n"
     ]
    }
   ],
   "source": [
    "from sklearn.metrics import r2_score\n",
    "print(r2_score(true_val0,pred_val0))\n",
    "print(results.rsquared) #Хорошо, мы убедились, что оно не врет"
   ]
  },
  {
   "cell_type": "markdown",
   "id": "f6db53d9",
   "metadata": {},
   "source": [
    "### Стандартная ошибка"
   ]
  },
  {
   "cell_type": "code",
   "execution_count": 68,
   "id": "20041f39",
   "metadata": {},
   "outputs": [
    {
     "data": {
      "text/plain": [
       "Intercept    3.086346\n",
       "x1           0.045916\n",
       "x2           0.041713\n",
       "x3           0.034483\n",
       "dtype: float64"
      ]
     },
     "execution_count": 68,
     "metadata": {},
     "output_type": "execute_result"
    }
   ],
   "source": [
    "results.HC0_se"
   ]
  },
  {
   "cell_type": "markdown",
   "id": "101ff71e",
   "metadata": {},
   "source": [
    "### Средняя относительная ошибка аппроксимации"
   ]
  },
  {
   "cell_type": "code",
   "execution_count": 65,
   "id": "e84da27e",
   "metadata": {},
   "outputs": [
    {
     "data": {
      "text/plain": [
       "1.2145296883963929e-05"
      ]
     },
     "execution_count": 65,
     "metadata": {},
     "output_type": "execute_result"
    }
   ],
   "source": [
    "from sklearn.metrics import mean_absolute_error\n",
    "mape = mean_absolute_error(true_val0, pred_val0) / true_val0.abs().sum()\n",
    "mape"
   ]
  },
  {
   "cell_type": "code",
   "execution_count": 57,
   "id": "966acfb8",
   "metadata": {},
   "outputs": [
    {
     "name": "stdout",
     "output_type": "stream",
     "text": [
      "294.54187189204464\n"
     ]
    }
   ],
   "source": [
    "#R-squared\n",
    "#print(sm1$sigma)\n",
    "\n",
    "print(results.fvalue)\n",
    "#print(sm1$r.squared)\n",
    "#print(sm1$fstatistic)\n",
    "#print(A1)"
   ]
  },
  {
   "cell_type": "code",
   "execution_count": 55,
   "id": "d52e895c",
   "metadata": {},
   "outputs": [],
   "source": [
    "import seaborn as sns"
   ]
  },
  {
   "cell_type": "code",
   "execution_count": 56,
   "id": "b5f5ad49",
   "metadata": {},
   "outputs": [
    {
     "data": {
      "text/plain": [
       "<AxesSubplot:xlabel='real', ylabel='pred'>"
      ]
     },
     "execution_count": 56,
     "metadata": {},
     "output_type": "execute_result"
    },
    {
     "data": {
      "image/png": "[encoded data removed]",
      "text/plain": [
       "<Figure size 432x288 with 1 Axes>"
      ]
     },
     "metadata": {
      "needs_background": "light"
     },
     "output_type": "display_data"
    }
   ],
   "source": [
    "pred0 =pd.DataFrame({\n",
    "    'real': true_val0,\n",
    "    'pred': pred_val0\n",
    "})\n",
    "sns.regplot(x='real',y='pred',data=pred0)"
   ]
  },
  {
   "cell_type": "markdown",
   "id": "45c85691",
   "metadata": {},
   "source": [
    "#### Проводим тесты"
   ]
  },
  {
   "cell_type": "code",
   "execution_count": null,
   "id": "c07a638c",
   "metadata": {},
   "outputs": [],
   "source": [
    "import statsmodels.stats as smd\n",
    "\n",
    "import statsmodels.stats.api as sms\n",
    "#чтобы делать тесты\n",
    "\n",
    "from statsmodels.compat import lzip\n",
    "#чтобы делать подписи"
   ]
  },
  {
   "cell_type": "code",
   "execution_count": null,
   "id": "2f96cf62",
   "metadata": {},
   "outputs": [],
   "source": [
    "residuals = results.resid\n",
    "\n",
    "#DWtest\n",
    "dw = smd.stattools.durbin_watson(residuals)\n",
    "dw\n",
    "\n",
    "#BGtest\n",
    "smd.diagnostic.acorr_breusch_godfrey(results)\n",
    "#или\n",
    "name=['Chisq statistic','p-value', 'F statistic','p-value(F)']\n",
    "bg=sms.acorr_breusch_godfrey(results,nlags=1)\n",
    "lzip(name,bg)"
   ]
  },
  {
   "cell_type": "code",
   "execution_count": null,
   "id": "53ea095b",
   "metadata": {},
   "outputs": [],
   "source": [
    "#GQtest\n",
    "name=['F statistic','p-value']\n",
    "gq=sms.het_goldfeldquandt(residuals,results.model.exog)\n",
    "lzip(name,gq)\n",
    "#или GQtest\n",
    "gq=sms.het_goldfeldquandt(residuals,results.model.exog)\n",
    "gq\n"
   ]
  },
  {
   "cell_type": "code",
   "execution_count": null,
   "id": "01ab79f4",
   "metadata": {},
   "outputs": [],
   "source": [
    "#BPtest\n",
    "name=['BP','p-value']\n",
    "bp=sms.het_breuschpagan(residuals,results.model.exog)\n",
    "lzip(name,bp)\n"
   ]
  },
  {
   "cell_type": "code",
   "execution_count": null,
   "id": "9e3fb6d0",
   "metadata": {},
   "outputs": [],
   "source": [
    "#White_test\n",
    "name=['WT','p-value']\n",
    "wt=sms.het_white(residuals,results.model.exog)\n",
    "lzip(name,wt)"
   ]
  },
  {
   "cell_type": "code",
   "execution_count": null,
   "id": "13e2db45",
   "metadata": {},
   "outputs": [],
   "source": [
    "#HC\n",
    "smd.sandwich_covariance.cov_hc3(results)\n",
    "#или\n",
    "results.cov_HC3\n"
   ]
  },
  {
   "cell_type": "code",
   "execution_count": null,
   "id": "92219b1b",
   "metadata": {},
   "outputs": [],
   "source": [
    "#HAC\n",
    "smd.sandwich_covariance.cov_hac(results)\n"
   ]
  },
  {
   "cell_type": "code",
   "execution_count": null,
   "id": "5e047204",
   "metadata": {},
   "outputs": [],
   "source": []
  },
  {
   "cell_type": "code",
   "execution_count": null,
   "id": "8e2c52a5",
   "metadata": {},
   "outputs": [],
   "source": []
  },
  {
   "cell_type": "code",
   "execution_count": null,
   "id": "8ca2eddc",
   "metadata": {},
   "outputs": [],
   "source": []
  },
  {
   "cell_type": "code",
   "execution_count": null,
   "id": "6ae5973c",
   "metadata": {},
   "outputs": [],
   "source": []
  },
  {
   "cell_type": "code",
   "execution_count": null,
   "id": "a57daa8d",
   "metadata": {},
   "outputs": [],
   "source": []
  }
 ],
 "metadata": {
  "kernelspec": {
   "display_name": "Python 3 (ipykernel)",
   "language": "python",
   "name": "python3"
  },
  "language_info": {
   "codemirror_mode": {
    "name": "ipython",
    "version": 3
   },
   "file_extension": ".py",
   "mimetype": "text/x-python",
   "name": "python",
   "nbconvert_exporter": "python",
   "pygments_lexer": "ipython3",
   "version": "3.9.7"
  }
 },
 "nbformat": 4,
 "nbformat_minor": 5
}
