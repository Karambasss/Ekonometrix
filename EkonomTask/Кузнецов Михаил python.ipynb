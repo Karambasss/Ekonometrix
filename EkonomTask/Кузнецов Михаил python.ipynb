{
 "cells": [
  {
   "cell_type": "code",
   "execution_count": 1,
   "metadata": {},
   "outputs": [],
   "source": [
    "import numpy as np"
   ]
  },
  {
   "cell_type": "code",
   "execution_count": 2,
   "metadata": {},
   "outputs": [],
   "source": [
    "import pandas as pd"
   ]
  },
  {
   "cell_type": "code",
   "execution_count": 3,
   "metadata": {},
   "outputs": [
    {
     "data": {
      "text/html": [
       "<div>\n",
       "<style scoped>\n",
       "    .dataframe tbody tr th:only-of-type {\n",
       "        vertical-align: middle;\n",
       "    }\n",
       "\n",
       "    .dataframe tbody tr th {\n",
       "        vertical-align: top;\n",
       "    }\n",
       "\n",
       "    .dataframe thead th {\n",
       "        text-align: right;\n",
       "    }\n",
       "</style>\n",
       "<table border=\"1\" class=\"dataframe\">\n",
       "  <thead>\n",
       "    <tr style=\"text-align: right;\">\n",
       "      <th></th>\n",
       "      <th>y</th>\n",
       "      <th>x1</th>\n",
       "      <th>x2</th>\n",
       "      <th>x3</th>\n",
       "    </tr>\n",
       "  </thead>\n",
       "  <tbody>\n",
       "    <tr>\n",
       "      <th>1</th>\n",
       "      <td>207.739615</td>\n",
       "      <td>193.858622</td>\n",
       "      <td>32.945006</td>\n",
       "      <td>46.266501</td>\n",
       "    </tr>\n",
       "    <tr>\n",
       "      <th>2</th>\n",
       "      <td>208.608039</td>\n",
       "      <td>195.067517</td>\n",
       "      <td>33.326544</td>\n",
       "      <td>44.862495</td>\n",
       "    </tr>\n",
       "    <tr>\n",
       "      <th>3</th>\n",
       "      <td>209.153049</td>\n",
       "      <td>195.489974</td>\n",
       "      <td>33.249550</td>\n",
       "      <td>47.085830</td>\n",
       "    </tr>\n",
       "    <tr>\n",
       "      <th>4</th>\n",
       "      <td>209.628554</td>\n",
       "      <td>194.642511</td>\n",
       "      <td>33.106918</td>\n",
       "      <td>45.446533</td>\n",
       "    </tr>\n",
       "    <tr>\n",
       "      <th>5</th>\n",
       "      <td>206.949373</td>\n",
       "      <td>194.237703</td>\n",
       "      <td>34.637592</td>\n",
       "      <td>48.151849</td>\n",
       "    </tr>\n",
       "    <tr>\n",
       "      <th>...</th>\n",
       "      <td>...</td>\n",
       "      <td>...</td>\n",
       "      <td>...</td>\n",
       "      <td>...</td>\n",
       "    </tr>\n",
       "    <tr>\n",
       "      <th>296</th>\n",
       "      <td>211.790127</td>\n",
       "      <td>197.081133</td>\n",
       "      <td>34.034027</td>\n",
       "      <td>45.774430</td>\n",
       "    </tr>\n",
       "    <tr>\n",
       "      <th>297</th>\n",
       "      <td>210.405819</td>\n",
       "      <td>196.948563</td>\n",
       "      <td>35.465902</td>\n",
       "      <td>46.050843</td>\n",
       "    </tr>\n",
       "    <tr>\n",
       "      <th>298</th>\n",
       "      <td>210.831919</td>\n",
       "      <td>196.719325</td>\n",
       "      <td>35.671481</td>\n",
       "      <td>46.002748</td>\n",
       "    </tr>\n",
       "    <tr>\n",
       "      <th>299</th>\n",
       "      <td>210.886958</td>\n",
       "      <td>196.721007</td>\n",
       "      <td>34.482185</td>\n",
       "      <td>45.979173</td>\n",
       "    </tr>\n",
       "    <tr>\n",
       "      <th>300</th>\n",
       "      <td>210.417672</td>\n",
       "      <td>195.725368</td>\n",
       "      <td>32.872439</td>\n",
       "      <td>44.220224</td>\n",
       "    </tr>\n",
       "  </tbody>\n",
       "</table>\n",
       "<p>300 rows × 4 columns</p>\n",
       "</div>"
      ],
      "text/plain": [
       "              y          x1         x2         x3\n",
       "1    207.739615  193.858622  32.945006  46.266501\n",
       "2    208.608039  195.067517  33.326544  44.862495\n",
       "3    209.153049  195.489974  33.249550  47.085830\n",
       "4    209.628554  194.642511  33.106918  45.446533\n",
       "5    206.949373  194.237703  34.637592  48.151849\n",
       "..          ...         ...        ...        ...\n",
       "296  211.790127  197.081133  34.034027  45.774430\n",
       "297  210.405819  196.948563  35.465902  46.050843\n",
       "298  210.831919  196.719325  35.671481  46.002748\n",
       "299  210.886958  196.721007  34.482185  45.979173\n",
       "300  210.417672  195.725368  32.872439  44.220224\n",
       "\n",
       "[300 rows x 4 columns]"
      ]
     },
     "execution_count": 3,
     "metadata": {},
     "output_type": "execute_result"
    }
   ],
   "source": [
    "d = pd.read_csv('KuznetsovData.txt', sep = '\\t', decimal = ',')\n",
    "d = d.astype('float')\n",
    "y = d[\"y\"]\n",
    "x1 = d[\"x1\"]\n",
    "x2 = d[\"x2\"]\n",
    "x3 = d[\"x3\"]\n",
    "d"
   ]
  },
  {
   "cell_type": "markdown",
   "metadata": {},
   "source": [
    "# Отбираем x для парной модели"
   ]
  },
  {
   "cell_type": "code",
   "execution_count": 4,
   "metadata": {},
   "outputs": [],
   "source": [
    "from matplotlib import pyplot as plt\n",
    "import numpy as np"
   ]
  },
  {
   "cell_type": "markdown",
   "metadata": {},
   "source": [
    "### y и x1"
   ]
  },
  {
   "cell_type": "code",
   "execution_count": 5,
   "metadata": {},
   "outputs": [
    {
     "data": {
      "image/png": "[encoded data removed]",
      "text/plain": [
       "<Figure size 432x288 with 1 Axes>"
      ]
     },
     "metadata": {
      "needs_background": "light"
     },
     "output_type": "display_data"
    }
   ],
   "source": [
    "xs = d[\"x1\"]\n",
    "ys = d[\"y\"].apply( np.log )\n",
    "pd.DataFrame(np.array([xs,ys]).T).plot.scatter(0, 1, s=12, grid=True)\n",
    "plt.xlabel('x1')\n",
    "plt.ylabel('y')\n",
    "plt.show()"
   ]
  },
  {
   "cell_type": "code",
   "execution_count": 6,
   "metadata": {},
   "outputs": [
    {
     "data": {
      "text/plain": [
       "0.817827763773581"
      ]
     },
     "execution_count": 6,
     "metadata": {},
     "output_type": "execute_result"
    }
   ],
   "source": [
    "x1_corr = np.corrcoef(d[\"x1\"], d[\"y\"])[0, 1]\n",
    "x1_corr"
   ]
  },
  {
   "cell_type": "markdown",
   "metadata": {},
   "source": [
    "### y и x2"
   ]
  },
  {
   "cell_type": "code",
   "execution_count": 7,
   "metadata": {},
   "outputs": [
    {
     "data": {
      "image/png": "[encoded data removed]",
      "text/plain": [
       "<Figure size 432x288 with 1 Axes>"
      ]
     },
     "metadata": {
      "needs_background": "light"
     },
     "output_type": "display_data"
    }
   ],
   "source": [
    "xs = d[\"x2\"]\n",
    "ys = d[\"y\"].apply( np.log )\n",
    "pd.DataFrame(np.array([xs,ys]).T).plot.scatter(0, 1, s=12, grid=True)\n",
    "plt.xlabel('x2')\n",
    "plt.ylabel('y')\n",
    "plt.show()"
   ]
  },
  {
   "cell_type": "code",
   "execution_count": 8,
   "metadata": {},
   "outputs": [
    {
     "data": {
      "text/plain": [
       "0.4439459604344157"
      ]
     },
     "execution_count": 8,
     "metadata": {},
     "output_type": "execute_result"
    }
   ],
   "source": [
    "x2_corr = np.corrcoef(d[\"x2\"], d[\"y\"])[0, 1]\n",
    "x2_corr"
   ]
  },
  {
   "cell_type": "markdown",
   "metadata": {},
   "source": [
    "### y и x3"
   ]
  },
  {
   "cell_type": "code",
   "execution_count": 9,
   "metadata": {},
   "outputs": [
    {
     "data": {
      "image/png": "[encoded data removed]",
      "text/plain": [
       "<Figure size 432x288 with 1 Axes>"
      ]
     },
     "metadata": {
      "needs_background": "light"
     },
     "output_type": "display_data"
    }
   ],
   "source": [
    "xs = d[\"x3\"]\n",
    "ys = d[\"y\"].apply( np.log )\n",
    "pd.DataFrame(np.array([xs,ys]).T).plot.scatter(0, 1, s=12, grid=True)\n",
    "plt.xlabel('x3')\n",
    "plt.ylabel('y')\n",
    "plt.show()"
   ]
  },
  {
   "cell_type": "code",
   "execution_count": 10,
   "metadata": {},
   "outputs": [
    {
     "data": {
      "text/plain": [
       "-0.6331627032800972"
      ]
     },
     "execution_count": 10,
     "metadata": {},
     "output_type": "execute_result"
    }
   ],
   "source": [
    "x3_corr = np.corrcoef(d[\"x3\"], d[\"y\"])[0, 1]\n",
    "x3_corr"
   ]
  },
  {
   "cell_type": "markdown",
   "metadata": {},
   "source": [
    "**Вывод**<br>Наиболее сильная зависимость видна между y и x1. Ее же и берем для построения парной регрессии"
   ]
  },
  {
   "cell_type": "code",
   "execution_count": 11,
   "metadata": {},
   "outputs": [],
   "source": [
    "import statsmodels.formula.api as sm"
   ]
  },
  {
   "cell_type": "markdown",
   "metadata": {},
   "source": [
    "# Строим парную модель"
   ]
  },
  {
   "cell_type": "code",
   "execution_count": 12,
   "metadata": {},
   "outputs": [
    {
     "data": {
      "text/html": [
       "<table class=\"simpletable\">\n",
       "<caption>OLS Regression Results</caption>\n",
       "<tr>\n",
       "  <th>Dep. Variable:</th>            <td>y</td>        <th>  R-squared:         </th> <td>   0.669</td>\n",
       "</tr>\n",
       "<tr>\n",
       "  <th>Model:</th>                   <td>OLS</td>       <th>  Adj. R-squared:    </th> <td>   0.668</td>\n",
       "</tr>\n",
       "<tr>\n",
       "  <th>Method:</th>             <td>Least Squares</td>  <th>  F-statistic:       </th> <td>   601.9</td>\n",
       "</tr>\n",
       "<tr>\n",
       "  <th>Date:</th>             <td>Sat, 27 Nov 2021</td> <th>  Prob (F-statistic):</th> <td>1.72e-73</td>\n",
       "</tr>\n",
       "<tr>\n",
       "  <th>Time:</th>                 <td>10:31:47</td>     <th>  Log-Likelihood:    </th> <td> -274.30</td>\n",
       "</tr>\n",
       "<tr>\n",
       "  <th>No. Observations:</th>      <td>   300</td>      <th>  AIC:               </th> <td>   552.6</td>\n",
       "</tr>\n",
       "<tr>\n",
       "  <th>Df Residuals:</th>          <td>   298</td>      <th>  BIC:               </th> <td>   560.0</td>\n",
       "</tr>\n",
       "<tr>\n",
       "  <th>Df Model:</th>              <td>     1</td>      <th>                     </th>     <td> </td>   \n",
       "</tr>\n",
       "<tr>\n",
       "  <th>Covariance Type:</th>      <td>nonrobust</td>    <th>                     </th>     <td> </td>   \n",
       "</tr>\n",
       "</table>\n",
       "<table class=\"simpletable\">\n",
       "<tr>\n",
       "      <td></td>         <th>coef</th>     <th>std err</th>      <th>t</th>      <th>P>|t|</th>  <th>[0.025</th>    <th>0.975]</th>  \n",
       "</tr>\n",
       "<tr>\n",
       "  <th>Intercept</th> <td>   47.9367</td> <td>    6.606</td> <td>    7.256</td> <td> 0.000</td> <td>   34.936</td> <td>   60.938</td>\n",
       "</tr>\n",
       "<tr>\n",
       "  <th>x1</th>        <td>    0.8271</td> <td>    0.034</td> <td>   24.533</td> <td> 0.000</td> <td>    0.761</td> <td>    0.893</td>\n",
       "</tr>\n",
       "</table>\n",
       "<table class=\"simpletable\">\n",
       "<tr>\n",
       "  <th>Omnibus:</th>       <td> 0.143</td> <th>  Durbin-Watson:     </th> <td>   2.082</td>\n",
       "</tr>\n",
       "<tr>\n",
       "  <th>Prob(Omnibus):</th> <td> 0.931</td> <th>  Jarque-Bera (JB):  </th> <td>   0.231</td>\n",
       "</tr>\n",
       "<tr>\n",
       "  <th>Skew:</th>          <td> 0.046</td> <th>  Prob(JB):          </th> <td>   0.891</td>\n",
       "</tr>\n",
       "<tr>\n",
       "  <th>Kurtosis:</th>      <td> 2.899</td> <th>  Cond. No.          </th> <td>3.70e+04</td>\n",
       "</tr>\n",
       "</table><br/><br/>Notes:<br/>[1] Standard Errors assume that the covariance matrix of the errors is correctly specified.<br/>[2] The condition number is large, 3.7e+04. This might indicate that there are<br/>strong multicollinearity or other numerical problems."
      ],
      "text/plain": [
       "<class 'statsmodels.iolib.summary.Summary'>\n",
       "\"\"\"\n",
       "                            OLS Regression Results                            \n",
       "==============================================================================\n",
       "Dep. Variable:                      y   R-squared:                       0.669\n",
       "Model:                            OLS   Adj. R-squared:                  0.668\n",
       "Method:                 Least Squares   F-statistic:                     601.9\n",
       "Date:                Sat, 27 Nov 2021   Prob (F-statistic):           1.72e-73\n",
       "Time:                        10:31:47   Log-Likelihood:                -274.30\n",
       "No. Observations:                 300   AIC:                             552.6\n",
       "Df Residuals:                     298   BIC:                             560.0\n",
       "Df Model:                           1                                         \n",
       "Covariance Type:            nonrobust                                         \n",
       "==============================================================================\n",
       "                 coef    std err          t      P>|t|      [0.025      0.975]\n",
       "------------------------------------------------------------------------------\n",
       "Intercept     47.9367      6.606      7.256      0.000      34.936      60.938\n",
       "x1             0.8271      0.034     24.533      0.000       0.761       0.893\n",
       "==============================================================================\n",
       "Omnibus:                        0.143   Durbin-Watson:                   2.082\n",
       "Prob(Omnibus):                  0.931   Jarque-Bera (JB):                0.231\n",
       "Skew:                           0.046   Prob(JB):                        0.891\n",
       "Kurtosis:                       2.899   Cond. No.                     3.70e+04\n",
       "==============================================================================\n",
       "\n",
       "Notes:\n",
       "[1] Standard Errors assume that the covariance matrix of the errors is correctly specified.\n",
       "[2] The condition number is large, 3.7e+04. This might indicate that there are\n",
       "strong multicollinearity or other numerical problems.\n",
       "\"\"\""
      ]
     },
     "execution_count": 12,
     "metadata": {},
     "output_type": "execute_result"
    }
   ],
   "source": [
    "m_pair = sm.ols(formula=\"y ~ x1\", data=d)\n",
    "results_pair = m_pair.fit()\n",
    "s_pair = results_pair.summary()\n",
    "\n",
    "df_pair = pd.read_html(s_pair.tables[1].as_html(),header=0,index_col=0)[0]\n",
    "s_pair"
   ]
  },
  {
   "cell_type": "markdown",
   "metadata": {},
   "source": [
    "### Доверительные интервалы"
   ]
  },
  {
   "cell_type": "code",
   "execution_count": 13,
   "metadata": {},
   "outputs": [
    {
     "data": {
      "text/html": [
       "<div>\n",
       "<style scoped>\n",
       "    .dataframe tbody tr th:only-of-type {\n",
       "        vertical-align: middle;\n",
       "    }\n",
       "\n",
       "    .dataframe tbody tr th {\n",
       "        vertical-align: top;\n",
       "    }\n",
       "\n",
       "    .dataframe thead th {\n",
       "        text-align: right;\n",
       "    }\n",
       "</style>\n",
       "<table border=\"1\" class=\"dataframe\">\n",
       "  <thead>\n",
       "    <tr style=\"text-align: right;\">\n",
       "      <th></th>\n",
       "      <th>0</th>\n",
       "      <th>1</th>\n",
       "    </tr>\n",
       "  </thead>\n",
       "  <tbody>\n",
       "    <tr>\n",
       "      <th>Intercept</th>\n",
       "      <td>34.935764</td>\n",
       "      <td>60.937721</td>\n",
       "    </tr>\n",
       "    <tr>\n",
       "      <th>x1</th>\n",
       "      <td>0.760738</td>\n",
       "      <td>0.893430</td>\n",
       "    </tr>\n",
       "  </tbody>\n",
       "</table>\n",
       "</div>"
      ],
      "text/plain": [
       "                   0          1\n",
       "Intercept  34.935764  60.937721\n",
       "x1          0.760738   0.893430"
      ]
     },
     "execution_count": 13,
     "metadata": {},
     "output_type": "execute_result"
    }
   ],
   "source": [
    "results_pair.conf_int(0.05)"
   ]
  },
  {
   "cell_type": "markdown",
   "metadata": {},
   "source": [
    "### Коэфф детерминации R^2"
   ]
  },
  {
   "cell_type": "code",
   "execution_count": 14,
   "metadata": {},
   "outputs": [],
   "source": [
    "pred_val0 = results_pair.fittedvalues.copy()\n",
    "true_val0 = d[\"y\"]\n",
    "e0 = true_val0 - pred_val0"
   ]
  },
  {
   "cell_type": "code",
   "execution_count": 15,
   "metadata": {},
   "outputs": [
    {
     "name": "stdout",
     "output_type": "stream",
     "text": [
      "0.6688422511988963\n"
     ]
    }
   ],
   "source": [
    "print(results_pair.rsquared)"
   ]
  },
  {
   "cell_type": "markdown",
   "metadata": {},
   "source": [
    "### Коэфф апроксимации"
   ]
  },
  {
   "cell_type": "code",
   "execution_count": 16,
   "metadata": {},
   "outputs": [
    {
     "name": "stdout",
     "output_type": "stream",
     "text": [
      "0.233163681453908\n"
     ]
    }
   ],
   "source": [
    "A_pair = (1/len(x1))*sum(abs(e0/y))*100\n",
    "print(A_pair)"
   ]
  },
  {
   "cell_type": "markdown",
   "metadata": {},
   "source": [
    "### Стандартная ошибка"
   ]
  },
  {
   "cell_type": "code",
   "execution_count": 17,
   "metadata": {},
   "outputs": [
    {
     "data": {
      "text/plain": [
       "Intercept    7.194731\n",
       "x1           0.036711\n",
       "dtype: float64"
      ]
     },
     "execution_count": 17,
     "metadata": {},
     "output_type": "execute_result"
    }
   ],
   "source": [
    "results_pair.HC0_se"
   ]
  },
  {
   "cell_type": "markdown",
   "metadata": {},
   "source": [
    "### Средняя ошибка модели"
   ]
  },
  {
   "cell_type": "code",
   "execution_count": 18,
   "metadata": {},
   "outputs": [
    {
     "name": "stdout",
     "output_type": "stream",
     "text": [
      "0.6057627094313864\n"
     ]
    }
   ],
   "source": [
    "print(np.sqrt(results_pair.scale))"
   ]
  },
  {
   "cell_type": "markdown",
   "metadata": {},
   "source": [
    "### Средняя относительная ошибка апроксимации"
   ]
  },
  {
   "cell_type": "code",
   "execution_count": 19,
   "metadata": {},
   "outputs": [
    {
     "data": {
      "text/plain": [
       "7.771833701318814e-06"
      ]
     },
     "execution_count": 19,
     "metadata": {},
     "output_type": "execute_result"
    }
   ],
   "source": [
    "from sklearn.metrics import mean_absolute_error\n",
    "mape = mean_absolute_error(true_val0, pred_val0) / true_val0.abs().sum()\n",
    "mape"
   ]
  },
  {
   "cell_type": "code",
   "execution_count": 20,
   "metadata": {},
   "outputs": [],
   "source": [
    "import seaborn as sns"
   ]
  },
  {
   "cell_type": "code",
   "execution_count": 21,
   "metadata": {},
   "outputs": [
    {
     "data": {
      "text/plain": [
       "<AxesSubplot:xlabel='real', ylabel='pred'>"
      ]
     },
     "execution_count": 21,
     "metadata": {},
     "output_type": "execute_result"
    },
    {
     "data": {
      "image/png": "[encoded data removed]",
      "text/plain": [
       "<Figure size 432x288 with 1 Axes>"
      ]
     },
     "metadata": {
      "needs_background": "light"
     },
     "output_type": "display_data"
    }
   ],
   "source": [
    "pred0 =pd.DataFrame({\n",
    "    'real': true_val0,\n",
    "    'pred': pred_val0\n",
    "})\n",
    "sns.regplot(x='real',y='pred',data=pred0)"
   ]
  },
  {
   "cell_type": "markdown",
   "metadata": {},
   "source": [
    "### Определяем коэффициенты"
   ]
  },
  {
   "cell_type": "markdown",
   "metadata": {},
   "source": [
    "#### x1"
   ]
  },
  {
   "cell_type": "code",
   "execution_count": 22,
   "metadata": {},
   "outputs": [],
   "source": [
    "beta_pair_1 = df_pair['coef'].values[1] # Бета коэффициент для x1\n",
    "delta_pair_1 = x1_corr * beta_pair_1 / results_pair.rsquared # Дельта коэффициент для x1\n",
    "elastic_pair_1 = beta_pair_1 * x1.mean() / y.mean() # Коэффициент эластичности для x1"
   ]
  },
  {
   "cell_type": "code",
   "execution_count": 23,
   "metadata": {},
   "outputs": [
    {
     "name": "stdout",
     "output_type": "stream",
     "text": [
      "Beta: 0.8271\n",
      "Delta: 1.0113376393381845\n",
      "Elastic: 0.7717537559994294\n"
     ]
    }
   ],
   "source": [
    "print(\"Beta: {}\\nDelta: {}\\nElastic: {}\".format(beta_pair_1,delta_pair_1,elastic_pair_1))"
   ]
  },
  {
   "cell_type": "markdown",
   "metadata": {},
   "source": [
    "#### Проводим тесты"
   ]
  },
  {
   "cell_type": "code",
   "execution_count": 24,
   "metadata": {},
   "outputs": [],
   "source": [
    "import statsmodels.stats as smd"
   ]
  },
  {
   "cell_type": "code",
   "execution_count": 25,
   "metadata": {},
   "outputs": [],
   "source": [
    "import statsmodels.stats.api as sms"
   ]
  },
  {
   "cell_type": "code",
   "execution_count": 26,
   "metadata": {},
   "outputs": [],
   "source": [
    "from statsmodels.compat import lzip"
   ]
  },
  {
   "cell_type": "code",
   "execution_count": 27,
   "metadata": {},
   "outputs": [],
   "source": [
    "residuals = results_pair.resid"
   ]
  },
  {
   "cell_type": "markdown",
   "metadata": {},
   "source": [
    "#### Тест Дарбина-Ватсона"
   ]
  },
  {
   "cell_type": "code",
   "execution_count": 28,
   "metadata": {},
   "outputs": [
    {
     "data": {
      "text/plain": [
       "2.0819401426055157"
      ]
     },
     "execution_count": 28,
     "metadata": {},
     "output_type": "execute_result"
    }
   ],
   "source": [
    "#DWtest\n",
    "dw = smd.stattools.durbin_watson(residuals)\n",
    "dw"
   ]
  },
  {
   "cell_type": "markdown",
   "metadata": {},
   "source": [
    "#### Тест Бреуша-Годфри"
   ]
  },
  {
   "cell_type": "code",
   "execution_count": 29,
   "metadata": {},
   "outputs": [
    {
     "data": {
      "text/plain": [
       "[('Критерий хи-квадрат', 0.5810120687365194),\n",
       " ('P-значение', 0.44591589552190347),\n",
       " ('F статистика', 0.5763181073017443),\n",
       " ('P-значение(F)', 0.4483612191039723)]"
      ]
     },
     "execution_count": 29,
     "metadata": {},
     "output_type": "execute_result"
    }
   ],
   "source": [
    "#BGtest\n",
    "name=['Критерий хи-квадрат','P-значение', 'F статистика','P-значение(F)']\n",
    "bg=sms.acorr_breusch_godfrey(results_pair,nlags=1)\n",
    "lzip(name,bg)"
   ]
  },
  {
   "cell_type": "markdown",
   "metadata": {},
   "source": [
    "#### Тест Голдфельда-Квандта"
   ]
  },
  {
   "cell_type": "code",
   "execution_count": 30,
   "metadata": {},
   "outputs": [
    {
     "name": "stdout",
     "output_type": "stream",
     "text": [
      "[('F-статистика', 0.8441350689555344), ('P-значение', 0.8481020152414865)]\n"
     ]
    }
   ],
   "source": [
    "#GQtest\n",
    "name=['F-статистика','P-значение']\n",
    "gq=sms.het_goldfeldquandt(residuals,results_pair.model.exog)\n",
    "print(lzip(name,gq))"
   ]
  },
  {
   "cell_type": "markdown",
   "metadata": {},
   "source": [
    "#### Тест Бреуша-Пагана"
   ]
  },
  {
   "cell_type": "code",
   "execution_count": 31,
   "metadata": {},
   "outputs": [
    {
     "data": {
      "text/plain": [
       "[('BP', 0.10841978338382852), ('P-значение', 0.7419504119015491)]"
      ]
     },
     "execution_count": 31,
     "metadata": {},
     "output_type": "execute_result"
    }
   ],
   "source": [
    "#BPtest\n",
    "name=['BP','P-значение']\n",
    "bp=sms.het_breuschpagan(residuals,results_pair.model.exog)\n",
    "lzip(name,bp)\n"
   ]
  },
  {
   "cell_type": "markdown",
   "metadata": {},
   "source": [
    "#### Тест Уайта"
   ]
  },
  {
   "cell_type": "code",
   "execution_count": 32,
   "metadata": {},
   "outputs": [
    {
     "data": {
      "text/plain": [
       "[('WT', 2.9348561573732), ('P-значение', 0.230517596548094)]"
      ]
     },
     "execution_count": 32,
     "metadata": {},
     "output_type": "execute_result"
    }
   ],
   "source": [
    "#White_test\n",
    "name=['WT','P-значение']\n",
    "wt=sms.het_white(residuals,results_pair.model.exog)\n",
    "lzip(name,wt)"
   ]
  },
  {
   "cell_type": "markdown",
   "metadata": {},
   "source": [
    "# Строим множественную модель"
   ]
  },
  {
   "cell_type": "markdown",
   "metadata": {},
   "source": [
    "#### Общие данные"
   ]
  },
  {
   "cell_type": "code",
   "execution_count": 33,
   "metadata": {
    "scrolled": false
   },
   "outputs": [
    {
     "data": {
      "text/html": [
       "<table class=\"simpletable\">\n",
       "<caption>OLS Regression Results</caption>\n",
       "<tr>\n",
       "  <th>Dep. Variable:</th>            <td>y</td>        <th>  R-squared:         </th> <td>   0.777</td>\n",
       "</tr>\n",
       "<tr>\n",
       "  <th>Model:</th>                   <td>OLS</td>       <th>  Adj. R-squared:    </th> <td>   0.774</td>\n",
       "</tr>\n",
       "<tr>\n",
       "  <th>Method:</th>             <td>Least Squares</td>  <th>  F-statistic:       </th> <td>   342.9</td>\n",
       "</tr>\n",
       "<tr>\n",
       "  <th>Date:</th>             <td>Sat, 27 Nov 2021</td> <th>  Prob (F-statistic):</th> <td>5.83e-96</td>\n",
       "</tr>\n",
       "<tr>\n",
       "  <th>Time:</th>                 <td>10:32:06</td>     <th>  Log-Likelihood:    </th> <td> -215.29</td>\n",
       "</tr>\n",
       "<tr>\n",
       "  <th>No. Observations:</th>      <td>   300</td>      <th>  AIC:               </th> <td>   438.6</td>\n",
       "</tr>\n",
       "<tr>\n",
       "  <th>Df Residuals:</th>          <td>   296</td>      <th>  BIC:               </th> <td>   453.4</td>\n",
       "</tr>\n",
       "<tr>\n",
       "  <th>Df Model:</th>              <td>     3</td>      <th>                     </th>     <td> </td>   \n",
       "</tr>\n",
       "<tr>\n",
       "  <th>Covariance Type:</th>      <td>nonrobust</td>    <th>                     </th>     <td> </td>   \n",
       "</tr>\n",
       "</table>\n",
       "<table class=\"simpletable\">\n",
       "<tr>\n",
       "      <td></td>         <th>coef</th>     <th>std err</th>      <th>t</th>      <th>P>|t|</th>  <th>[0.025</th>    <th>0.975]</th>  \n",
       "</tr>\n",
       "<tr>\n",
       "  <th>Intercept</th> <td>   70.5966</td> <td>    8.711</td> <td>    8.105</td> <td> 0.000</td> <td>   53.454</td> <td>   87.739</td>\n",
       "</tr>\n",
       "<tr>\n",
       "  <th>x1</th>        <td>    0.8113</td> <td>    0.045</td> <td>   17.890</td> <td> 0.000</td> <td>    0.722</td> <td>    0.901</td>\n",
       "</tr>\n",
       "<tr>\n",
       "  <th>x2</th>        <td>   -0.1703</td> <td>    0.042</td> <td>   -4.052</td> <td> 0.000</td> <td>   -0.253</td> <td>   -0.088</td>\n",
       "</tr>\n",
       "<tr>\n",
       "  <th>x3</th>        <td>   -0.3004</td> <td>    0.031</td> <td>   -9.614</td> <td> 0.000</td> <td>   -0.362</td> <td>   -0.239</td>\n",
       "</tr>\n",
       "</table>\n",
       "<table class=\"simpletable\">\n",
       "<tr>\n",
       "  <th>Omnibus:</th>       <td> 1.197</td> <th>  Durbin-Watson:     </th> <td>   1.994</td>\n",
       "</tr>\n",
       "<tr>\n",
       "  <th>Prob(Omnibus):</th> <td> 0.550</td> <th>  Jarque-Bera (JB):  </th> <td>   1.281</td>\n",
       "</tr>\n",
       "<tr>\n",
       "  <th>Skew:</th>          <td> 0.145</td> <th>  Prob(JB):          </th> <td>   0.527</td>\n",
       "</tr>\n",
       "<tr>\n",
       "  <th>Kurtosis:</th>      <td> 2.863</td> <th>  Cond. No.          </th> <td>6.17e+04</td>\n",
       "</tr>\n",
       "</table><br/><br/>Notes:<br/>[1] Standard Errors assume that the covariance matrix of the errors is correctly specified.<br/>[2] The condition number is large, 6.17e+04. This might indicate that there are<br/>strong multicollinearity or other numerical problems."
      ],
      "text/plain": [
       "<class 'statsmodels.iolib.summary.Summary'>\n",
       "\"\"\"\n",
       "                            OLS Regression Results                            \n",
       "==============================================================================\n",
       "Dep. Variable:                      y   R-squared:                       0.777\n",
       "Model:                            OLS   Adj. R-squared:                  0.774\n",
       "Method:                 Least Squares   F-statistic:                     342.9\n",
       "Date:                Sat, 27 Nov 2021   Prob (F-statistic):           5.83e-96\n",
       "Time:                        10:32:06   Log-Likelihood:                -215.29\n",
       "No. Observations:                 300   AIC:                             438.6\n",
       "Df Residuals:                     296   BIC:                             453.4\n",
       "Df Model:                           3                                         \n",
       "Covariance Type:            nonrobust                                         \n",
       "==============================================================================\n",
       "                 coef    std err          t      P>|t|      [0.025      0.975]\n",
       "------------------------------------------------------------------------------\n",
       "Intercept     70.5966      8.711      8.105      0.000      53.454      87.739\n",
       "x1             0.8113      0.045     17.890      0.000       0.722       0.901\n",
       "x2            -0.1703      0.042     -4.052      0.000      -0.253      -0.088\n",
       "x3            -0.3004      0.031     -9.614      0.000      -0.362      -0.239\n",
       "==============================================================================\n",
       "Omnibus:                        1.197   Durbin-Watson:                   1.994\n",
       "Prob(Omnibus):                  0.550   Jarque-Bera (JB):                1.281\n",
       "Skew:                           0.145   Prob(JB):                        0.527\n",
       "Kurtosis:                       2.863   Cond. No.                     6.17e+04\n",
       "==============================================================================\n",
       "\n",
       "Notes:\n",
       "[1] Standard Errors assume that the covariance matrix of the errors is correctly specified.\n",
       "[2] The condition number is large, 6.17e+04. This might indicate that there are\n",
       "strong multicollinearity or other numerical problems.\n",
       "\"\"\""
      ]
     },
     "execution_count": 33,
     "metadata": {},
     "output_type": "execute_result"
    }
   ],
   "source": [
    "m_many = sm.ols(formula=\"y ~ x1 + x2 + x3\", data=d)\n",
    "results_many = m_many.fit()\n",
    "s_many = results_many.summary()\n",
    "\n",
    "df_many = pd.read_html(s_many.tables[1].as_html(),header=0,index_col=0)[0]\n",
    "s_many"
   ]
  },
  {
   "cell_type": "markdown",
   "metadata": {},
   "source": [
    "### Доверительные интервалы"
   ]
  },
  {
   "cell_type": "code",
   "execution_count": 34,
   "metadata": {
    "scrolled": true
   },
   "outputs": [
    {
     "data": {
      "text/html": [
       "<div>\n",
       "<style scoped>\n",
       "    .dataframe tbody tr th:only-of-type {\n",
       "        vertical-align: middle;\n",
       "    }\n",
       "\n",
       "    .dataframe tbody tr th {\n",
       "        vertical-align: top;\n",
       "    }\n",
       "\n",
       "    .dataframe thead th {\n",
       "        text-align: right;\n",
       "    }\n",
       "</style>\n",
       "<table border=\"1\" class=\"dataframe\">\n",
       "  <thead>\n",
       "    <tr style=\"text-align: right;\">\n",
       "      <th></th>\n",
       "      <th>0</th>\n",
       "      <th>1</th>\n",
       "    </tr>\n",
       "  </thead>\n",
       "  <tbody>\n",
       "    <tr>\n",
       "      <th>Intercept</th>\n",
       "      <td>53.453662</td>\n",
       "      <td>87.739496</td>\n",
       "    </tr>\n",
       "    <tr>\n",
       "      <th>x1</th>\n",
       "      <td>0.722086</td>\n",
       "      <td>0.900586</td>\n",
       "    </tr>\n",
       "    <tr>\n",
       "      <th>x2</th>\n",
       "      <td>-0.253002</td>\n",
       "      <td>-0.087593</td>\n",
       "    </tr>\n",
       "    <tr>\n",
       "      <th>x3</th>\n",
       "      <td>-0.361898</td>\n",
       "      <td>-0.238915</td>\n",
       "    </tr>\n",
       "  </tbody>\n",
       "</table>\n",
       "</div>"
      ],
      "text/plain": [
       "                   0          1\n",
       "Intercept  53.453662  87.739496\n",
       "x1          0.722086   0.900586\n",
       "x2         -0.253002  -0.087593\n",
       "x3         -0.361898  -0.238915"
      ]
     },
     "execution_count": 34,
     "metadata": {},
     "output_type": "execute_result"
    }
   ],
   "source": [
    "results_many.conf_int(0.05)"
   ]
  },
  {
   "cell_type": "markdown",
   "metadata": {},
   "source": [
    "### Коэфф детерминации R^2"
   ]
  },
  {
   "cell_type": "code",
   "execution_count": 35,
   "metadata": {},
   "outputs": [],
   "source": [
    "pred_val0 = results_many.fittedvalues.copy()\n",
    "true_val0 = d[\"y\"]\n",
    "e0 = true_val0 - pred_val0"
   ]
  },
  {
   "cell_type": "code",
   "execution_count": 36,
   "metadata": {},
   "outputs": [
    {
     "name": "stdout",
     "output_type": "stream",
     "text": [
      "0.7765415367797509\n"
     ]
    }
   ],
   "source": [
    "print(results_many.rsquared)"
   ]
  },
  {
   "cell_type": "markdown",
   "metadata": {},
   "source": [
    "### Коэфф апроксимации"
   ]
  },
  {
   "cell_type": "code",
   "execution_count": 37,
   "metadata": {},
   "outputs": [
    {
     "name": "stdout",
     "output_type": "stream",
     "text": [
      "0.18954269189509343\n"
     ]
    }
   ],
   "source": [
    "A_many = (1/len(x1))*sum(abs(e0/y))*100\n",
    "print(A_many)"
   ]
  },
  {
   "cell_type": "markdown",
   "metadata": {},
   "source": [
    "### Стандартная ошибка"
   ]
  },
  {
   "cell_type": "code",
   "execution_count": 38,
   "metadata": {},
   "outputs": [
    {
     "data": {
      "text/plain": [
       "Intercept    8.934708\n",
       "x1           0.047569\n",
       "x2           0.043938\n",
       "x3           0.030626\n",
       "dtype: float64"
      ]
     },
     "execution_count": 38,
     "metadata": {},
     "output_type": "execute_result"
    }
   ],
   "source": [
    "results_many.HC0_se"
   ]
  },
  {
   "cell_type": "markdown",
   "metadata": {},
   "source": [
    "### Средняя ошибка модели"
   ]
  },
  {
   "cell_type": "code",
   "execution_count": 39,
   "metadata": {},
   "outputs": [
    {
     "name": "stdout",
     "output_type": "stream",
     "text": [
      "0.49928182189515646\n"
     ]
    }
   ],
   "source": [
    "print(np.sqrt(results_many.scale))"
   ]
  },
  {
   "cell_type": "markdown",
   "metadata": {},
   "source": [
    "### Средняя относительная ошибка апроксимации"
   ]
  },
  {
   "cell_type": "code",
   "execution_count": 40,
   "metadata": {},
   "outputs": [
    {
     "data": {
      "text/plain": [
       "6.31650461413809e-06"
      ]
     },
     "execution_count": 40,
     "metadata": {},
     "output_type": "execute_result"
    }
   ],
   "source": [
    "from sklearn.metrics import mean_absolute_error\n",
    "mape = mean_absolute_error(true_val0, pred_val0) / true_val0.abs().sum()\n",
    "mape"
   ]
  },
  {
   "cell_type": "code",
   "execution_count": 41,
   "metadata": {},
   "outputs": [],
   "source": [
    "import seaborn as sns"
   ]
  },
  {
   "cell_type": "code",
   "execution_count": 42,
   "metadata": {},
   "outputs": [
    {
     "data": {
      "text/plain": [
       "<AxesSubplot:xlabel='real', ylabel='pred'>"
      ]
     },
     "execution_count": 42,
     "metadata": {},
     "output_type": "execute_result"
    },
    {
     "data": {
      "image/png": "[encoded data removed]",
      "text/plain": [
       "<Figure size 432x288 with 1 Axes>"
      ]
     },
     "metadata": {
      "needs_background": "light"
     },
     "output_type": "display_data"
    }
   ],
   "source": [
    "pred0 =pd.DataFrame({\n",
    "    'real': true_val0,\n",
    "    'pred': pred_val0\n",
    "})\n",
    "sns.regplot(x='real',y='pred',data=pred0)"
   ]
  },
  {
   "cell_type": "markdown",
   "metadata": {},
   "source": [
    "### Определяем коэффициенты"
   ]
  },
  {
   "cell_type": "markdown",
   "metadata": {},
   "source": [
    "#### x1"
   ]
  },
  {
   "cell_type": "code",
   "execution_count": 43,
   "metadata": {},
   "outputs": [],
   "source": [
    "beta_many_1 = df_many['coef'].values[1] # Бета коэффициент для x1\n",
    "delta_many_1 = x1_corr * beta_many_1 / results_many.rsquared # Дельта коэффициент для x1\n",
    "elastic_many_1 = beta_many_1 * x1.mean() / y.mean() # Коэффициент эластичности для x1"
   ]
  },
  {
   "cell_type": "code",
   "execution_count": 44,
   "metadata": {},
   "outputs": [
    {
     "name": "stdout",
     "output_type": "stream",
     "text": [
      "Beta: 0.8113\n",
      "Delta: 0.8544342231852752\n",
      "Elastic: 0.7570110291891393\n"
     ]
    }
   ],
   "source": [
    "print(\"Beta: {}\\nDelta: {}\\nElastic: {}\".format(beta_many_1,delta_many_1,elastic_many_1))"
   ]
  },
  {
   "cell_type": "markdown",
   "metadata": {},
   "source": [
    "#### x2"
   ]
  },
  {
   "cell_type": "code",
   "execution_count": 45,
   "metadata": {},
   "outputs": [],
   "source": [
    "beta_many_2 = df_many['coef'].values[2] # Бета коэффициент для x2\n",
    "delta_many_2 = x2_corr * beta_many_2 / results_many.rsquared # Дельта коэффициент для x2\n",
    "elastic_many_2 = beta_many_2 * x2.mean() / y.mean() # Коэффициент эластичности для x2\n"
   ]
  },
  {
   "cell_type": "code",
   "execution_count": 46,
   "metadata": {},
   "outputs": [
    {
     "name": "stdout",
     "output_type": "stream",
     "text": [
      "Beta: -0.1703\n",
      "Delta: -0.09735988801771517\n",
      "Elastic: -0.027503073659420153\n"
     ]
    }
   ],
   "source": [
    "print(\"Beta: {}\\nDelta: {}\\nElastic: {}\".format(beta_many_2,delta_many_2,elastic_many_2))"
   ]
  },
  {
   "cell_type": "markdown",
   "metadata": {},
   "source": [
    "#### x3"
   ]
  },
  {
   "cell_type": "code",
   "execution_count": 47,
   "metadata": {},
   "outputs": [],
   "source": [
    "beta_many_3 = df_many['coef'].values[3] # Бета коэффициент для x3\n",
    "delta_many_3 = x3_corr * beta_many_3 / results_many.rsquared # Дельта коэффициент для x3\n",
    "elastic_many_3 = beta_many_3 * x3.mean() / y.mean() # Коэффициент эластичности для x3"
   ]
  },
  {
   "cell_type": "code",
   "execution_count": 48,
   "metadata": {},
   "outputs": [
    {
     "name": "stdout",
     "output_type": "stream",
     "text": [
      "Beta: -0.3004\n",
      "Delta: 0.244934838713319\n",
      "Elastic: -0.06570128614987222\n"
     ]
    }
   ],
   "source": [
    "print(\"Beta: {}\\nDelta: {}\\nElastic: {}\".format(beta_many_3,delta_many_3,elastic_many_3))"
   ]
  },
  {
   "cell_type": "markdown",
   "metadata": {},
   "source": [
    "#### Проводим тесты"
   ]
  },
  {
   "cell_type": "code",
   "execution_count": 131,
   "metadata": {},
   "outputs": [],
   "source": [
    "import statsmodels.stats as smd"
   ]
  },
  {
   "cell_type": "code",
   "execution_count": 132,
   "metadata": {},
   "outputs": [],
   "source": [
    "import statsmodels.stats.api as sms"
   ]
  },
  {
   "cell_type": "code",
   "execution_count": 133,
   "metadata": {},
   "outputs": [],
   "source": [
    "from statsmodels.compat import lzip"
   ]
  },
  {
   "cell_type": "code",
   "execution_count": 134,
   "metadata": {},
   "outputs": [],
   "source": [
    "residuals = results_many.resid"
   ]
  },
  {
   "cell_type": "markdown",
   "metadata": {},
   "source": [
    "#### Тест Дарбина-Ватсона"
   ]
  },
  {
   "cell_type": "code",
   "execution_count": 135,
   "metadata": {},
   "outputs": [
    {
     "data": {
      "text/plain": [
       "1.9935075478324629"
      ]
     },
     "execution_count": 135,
     "metadata": {},
     "output_type": "execute_result"
    }
   ],
   "source": [
    "#DWtest\n",
    "dw = smd.stattools.durbin_watson(residuals)\n",
    "dw"
   ]
  },
  {
   "cell_type": "markdown",
   "metadata": {},
   "source": [
    "#### Тест Бреуша-Годфри"
   ]
  },
  {
   "cell_type": "code",
   "execution_count": 136,
   "metadata": {},
   "outputs": [
    {
     "data": {
      "text/plain": [
       "[('Критерий хи-квадрат', 6.84183937171845e-05),\n",
       " ('P-значение', 0.9934003402440321),\n",
       " ('F статистика', 6.727810250051102e-05),\n",
       " ('P-значение(F)', 0.9934611105218694)]"
      ]
     },
     "execution_count": 136,
     "metadata": {},
     "output_type": "execute_result"
    }
   ],
   "source": [
    "#BGtest\n",
    "name=['Критерий хи-квадрат','P-значение', 'F статистика','P-значение(F)']\n",
    "bg=sms.acorr_breusch_godfrey(results_many,nlags=1)\n",
    "lzip(name,bg)"
   ]
  },
  {
   "cell_type": "markdown",
   "metadata": {},
   "source": [
    "#### Тест Голдфельда-Квандта"
   ]
  },
  {
   "cell_type": "code",
   "execution_count": 137,
   "metadata": {},
   "outputs": [
    {
     "name": "stdout",
     "output_type": "stream",
     "text": [
      "[('F-статистика', 0.9570440996057983), ('P-значение', 0.6044157328928486)]\n"
     ]
    }
   ],
   "source": [
    "#GQtest\n",
    "name=['F-статистика','P-значение']\n",
    "gq=sms.het_goldfeldquandt(residuals,results_many.model.exog)\n",
    "print(lzip(name,gq))"
   ]
  },
  {
   "cell_type": "markdown",
   "metadata": {},
   "source": [
    "#### Тест Бреуша-Пагана"
   ]
  },
  {
   "cell_type": "code",
   "execution_count": 138,
   "metadata": {},
   "outputs": [
    {
     "data": {
      "text/plain": [
       "[('BP', 7.384346801324837), ('P-значение', 0.060605738848305696)]"
      ]
     },
     "execution_count": 138,
     "metadata": {},
     "output_type": "execute_result"
    }
   ],
   "source": [
    "#BPtest\n",
    "name=['BP','P-значение']\n",
    "bp=sms.het_breuschpagan(residuals,results_many.model.exog)\n",
    "lzip(name,bp)\n"
   ]
  },
  {
   "cell_type": "markdown",
   "metadata": {},
   "source": [
    "#### Тест Уайта"
   ]
  },
  {
   "cell_type": "code",
   "execution_count": 139,
   "metadata": {},
   "outputs": [
    {
     "data": {
      "text/plain": [
       "[('WT', 10.967645333892895), ('P-значение', 0.27793321069133387)]"
      ]
     },
     "execution_count": 139,
     "metadata": {},
     "output_type": "execute_result"
    }
   ],
   "source": [
    "#White_test\n",
    "name=['WT','P-значение']\n",
    "wt=sms.het_white(residuals,results_many.model.exog)\n",
    "lzip(name,wt)"
   ]
  },
  {
   "cell_type": "markdown",
   "metadata": {},
   "source": [
    "# Сравниваем модели"
   ]
  },
  {
   "cell_type": "code",
   "execution_count": 140,
   "metadata": {},
   "outputs": [],
   "source": [
    "error_pair = np.sqrt(results_pair.scale)\n",
    "error_many = np.sqrt(results_many.scale)"
   ]
  },
  {
   "cell_type": "code",
   "execution_count": 141,
   "metadata": {},
   "outputs": [
    {
     "name": "stdout",
     "output_type": "stream",
     "text": [
      "(0.6688422511988963, 0.7765415367797509)\n"
     ]
    }
   ],
   "source": [
    "determ = (results_pair.rsquared, results_many.rsquared)\n",
    "print(determ)"
   ]
  },
  {
   "cell_type": "code",
   "execution_count": 142,
   "metadata": {},
   "outputs": [
    {
     "name": "stdout",
     "output_type": "stream",
     "text": [
      "(0.6677309835854697, 0.774276755057924)\n"
     ]
    }
   ],
   "source": [
    "adjust_determ = (results_pair.rsquared_adj, results_many.rsquared_adj)\n",
    "print(adjust_determ)"
   ]
  },
  {
   "cell_type": "code",
   "execution_count": 143,
   "metadata": {},
   "outputs": [
    {
     "name": "stdout",
     "output_type": "stream",
     "text": [
      "(0.6057627094313864, 0.49928182189515646)\n"
     ]
    }
   ],
   "source": [
    "st_error = (error_pair, error_many)\n",
    "print(st_error)"
   ]
  },
  {
   "cell_type": "code",
   "execution_count": 144,
   "metadata": {},
   "outputs": [
    {
     "name": "stdout",
     "output_type": "stream",
     "text": [
      "(0.233163681453908, 0.18954269189509343)\n"
     ]
    }
   ],
   "source": [
    "approx = (A_pair, A_many)\n",
    "print(approx)"
   ]
  },
  {
   "cell_type": "code",
   "execution_count": 145,
   "metadata": {},
   "outputs": [
    {
     "name": "stdout",
     "output_type": "stream",
     "text": [
      "(601.9, 342.9)\n"
     ]
    }
   ],
   "source": [
    "f_test = (601.9,342.9)\n",
    "print(f_test)"
   ]
  },
  {
   "cell_type": "markdown",
   "metadata": {},
   "source": [
    "### Выигрывает множественная модель по 4 из 5 пунктов"
   ]
  }
 ],
 "metadata": {
  "kernelspec": {
   "display_name": "Python 3",
   "language": "python",
   "name": "python3"
  },
  "language_info": {
   "codemirror_mode": {
    "name": "ipython",
    "version": 3
   },
   "file_extension": ".py",
   "mimetype": "text/x-python",
   "name": "python",
   "nbconvert_exporter": "python",
   "pygments_lexer": "ipython3",
   "version": "3.8.5"
  }
 },
 "nbformat": 4,
 "nbformat_minor": 5
}
